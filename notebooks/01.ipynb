{
 "cells": [
  {
   "cell_type": "code",
   "execution_count": 20,
   "metadata": {},
   "outputs": [],
   "source": [
    "import numpy as np\n",
    "import pandas as pd\n",
    "\n",
    "import statsmodels\n",
    "import scipy\n",
    "\n",
    "import sklearn\n",
    "import xgboost as xgb\n",
    "\n",
    "import matplotlib\n",
    "import matplotlib.pyplot as plt\n",
    "import seaborn as sns"
   ]
  },
  {
   "cell_type": "code",
   "execution_count": 21,
   "metadata": {},
   "outputs": [
    {
     "name": "stdout",
     "output_type": "stream",
     "text": [
      "Packages versions:\n",
      "\tnumpy: 1.26.4\n",
      "\tpandas: 2.2.1\n",
      "\tsklearn: 1.4.1.post1\n",
      "\tstatsmodels: 0.14.1\n",
      "\txgboost: 2.0.3\n",
      "\tscipy: 1.12.0\n",
      "\tmatplotlib: 3.8.3\n",
      "\tseaborn: 0.13.2\n"
     ]
    }
   ],
   "source": [
    "print(f'Packages versions:')\n",
    "print(f'\\tnumpy: {np.__version__}')\n",
    "print(f'\\tpandas: {pd.__version__}')\n",
    "print(f'\\tsklearn: {sklearn.__version__}')\n",
    "print(f'\\tstatsmodels: {statsmodels.__version__}')\n",
    "print(f'\\txgboost: {xgb.__version__}')\n",
    "print(f'\\tscipy: {scipy.__version__}')\n",
    "print(f'\\tmatplotlib: {matplotlib.__version__}')\n",
    "print(f'\\tseaborn: {sns.__version__}')"
   ]
  }
 ],
 "metadata": {
  "kernelspec": {
   "display_name": "ds-min",
   "language": "python",
   "name": "python3"
  },
  "language_info": {
   "codemirror_mode": {
    "name": "ipython",
    "version": 3
   },
   "file_extension": ".py",
   "mimetype": "text/x-python",
   "name": "python",
   "nbconvert_exporter": "python",
   "pygments_lexer": "ipython3",
   "version": "3.12.2"
  }
 },
 "nbformat": 4,
 "nbformat_minor": 2
}
